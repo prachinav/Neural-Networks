{
 "cells": [
  {
   "cell_type": "markdown",
   "id": "c7c0071d",
   "metadata": {
    "collapsed": false,
    "jupyter": {
     "outputs_hidden": false
    }
   },
   "source": [
    "## ProjF5 - Final Model\n",
    "\n",
    "Use this document as a template to provide the evaluation of your final model. You are welcome to go in as much depth as needed.\n",
    "\n",
    "Make sure you keep the sections specified in this template, but you are welcome to add more cells with your code or explanation as needed."
   ]
  },
  {
   "cell_type": "code",
   "execution_count": 77,
   "id": "414ff2ca-cc4b-4477-9b04-743f9a4a827f",
   "metadata": {},
   "outputs": [],
   "source": [
    "import numpy as np\n",
    "import pandas as pd\n",
    "import matplotlib.pyplot as plt\n",
    "import tensorflow as tf\n",
    "from tensorflow.keras import Sequential\n",
    "from tensorflow.keras.layers import Conv2D, MaxPooling2D, Flatten, Dense, Dropout, LSTM, concatenate, Reshape\n",
    "from sklearn.model_selection import train_test_split\n",
    "from sklearn.preprocessing import StandardScaler\n",
    "from PIL import Image\n",
    "from sklearn.model_selection import train_test_split\n",
    "from tensorflow.keras.layers import Input, Concatenate, Dropout, Dense\n",
    "from tensorflow.keras.models import Model\n",
    "from sklearn.preprocessing import OneHotEncoder"
   ]
  },
  {
   "cell_type": "markdown",
   "id": "2e990252",
   "metadata": {
    "collapsed": false,
    "jupyter": {
     "outputs_hidden": false
    }
   },
   "source": [
    "### 1. Load and Prepare Data\n",
    "\n",
    "This should illustrate your code for loading the dataset and the split into training, validation and testing. You can add steps like pre-processing if needed."
   ]
  },
  {
   "cell_type": "code",
   "execution_count": 319,
   "id": "14320204",
   "metadata": {
    "collapsed": false,
    "jupyter": {
     "outputs_hidden": false
    }
   },
   "outputs": [
    {
     "data": {
      "text/html": [
       "<div>\n",
       "<style scoped>\n",
       "    .dataframe tbody tr th:only-of-type {\n",
       "        vertical-align: middle;\n",
       "    }\n",
       "\n",
       "    .dataframe tbody tr th {\n",
       "        vertical-align: top;\n",
       "    }\n",
       "\n",
       "    .dataframe thead th {\n",
       "        text-align: right;\n",
       "    }\n",
       "</style>\n",
       "<table border=\"1\" class=\"dataframe\">\n",
       "  <thead>\n",
       "    <tr style=\"text-align: right;\">\n",
       "      <th></th>\n",
       "      <th>Time</th>\n",
       "      <th>IMAGE</th>\n",
       "      <th>DOLP</th>\n",
       "      <th>Cloud Coverage</th>\n",
       "      <th>Sky</th>\n",
       "    </tr>\n",
       "  </thead>\n",
       "  <tbody>\n",
       "    <tr>\n",
       "      <th>0</th>\n",
       "      <td>10:45:00</td>\n",
       "      <td>/Volumes/Doraemon /BRDF 2021/Data_Skycam/DCIM/...</td>\n",
       "      <td>0.122028</td>\n",
       "      <td>48.967867</td>\n",
       "      <td>Partly Cloudy</td>\n",
       "    </tr>\n",
       "    <tr>\n",
       "      <th>1</th>\n",
       "      <td>10:50:00</td>\n",
       "      <td>/Volumes/Doraemon /BRDF 2021/Data_Skycam/DCIM/...</td>\n",
       "      <td>0.110792</td>\n",
       "      <td>49.289283</td>\n",
       "      <td>Partly Cloudy</td>\n",
       "    </tr>\n",
       "    <tr>\n",
       "      <th>2</th>\n",
       "      <td>11:50:00</td>\n",
       "      <td>/Volumes/Doraemon /BRDF 2021/Data_Skycam/DCIM/...</td>\n",
       "      <td>0.071582</td>\n",
       "      <td>48.272792</td>\n",
       "      <td>Partly Cloudy</td>\n",
       "    </tr>\n",
       "    <tr>\n",
       "      <th>3</th>\n",
       "      <td>12:15:00</td>\n",
       "      <td>/Volumes/Doraemon /BRDF 2021/Data_Skycam/DCIM/...</td>\n",
       "      <td>0.077421</td>\n",
       "      <td>86.216933</td>\n",
       "      <td>Overcast</td>\n",
       "    </tr>\n",
       "    <tr>\n",
       "      <th>4</th>\n",
       "      <td>12:40:00</td>\n",
       "      <td>/Volumes/Doraemon /BRDF 2021/Data_Skycam/DCIM/...</td>\n",
       "      <td>0.286818</td>\n",
       "      <td>47.495025</td>\n",
       "      <td>Partly Cloudy</td>\n",
       "    </tr>\n",
       "    <tr>\n",
       "      <th>...</th>\n",
       "      <td>...</td>\n",
       "      <td>...</td>\n",
       "      <td>...</td>\n",
       "      <td>...</td>\n",
       "      <td>...</td>\n",
       "    </tr>\n",
       "    <tr>\n",
       "      <th>723</th>\n",
       "      <td>0.697917</td>\n",
       "      <td>/Volumes/Doraemon /BRDF 2021/Data_Skycam/DCIM/...</td>\n",
       "      <td>0.172934</td>\n",
       "      <td>31.220458</td>\n",
       "      <td>Partly Cloudy</td>\n",
       "    </tr>\n",
       "    <tr>\n",
       "      <th>724</th>\n",
       "      <td>0.739583</td>\n",
       "      <td>/Volumes/Doraemon /BRDF 2021/Data_Skycam/DCIM/...</td>\n",
       "      <td>0.194597</td>\n",
       "      <td>44.797783</td>\n",
       "      <td>Partly Cloudy</td>\n",
       "    </tr>\n",
       "    <tr>\n",
       "      <th>725</th>\n",
       "      <td>0.78125</td>\n",
       "      <td>/Volumes/Doraemon /BRDF 2021/Data_Skycam/DCIM/...</td>\n",
       "      <td>0.227131</td>\n",
       "      <td>52.975883</td>\n",
       "      <td>Overcast</td>\n",
       "    </tr>\n",
       "    <tr>\n",
       "      <th>726</th>\n",
       "      <td>0.822917</td>\n",
       "      <td>/Volumes/Doraemon /BRDF 2021/Data_Skycam/DCIM/...</td>\n",
       "      <td>0.295154</td>\n",
       "      <td>3.778183</td>\n",
       "      <td>Sunny</td>\n",
       "    </tr>\n",
       "    <tr>\n",
       "      <th>727</th>\n",
       "      <td>0.284722</td>\n",
       "      <td>/Volumes/Doraemon /BRDF 2021/Data_Skycam/DCIM/...</td>\n",
       "      <td>0.123890</td>\n",
       "      <td>54.325433</td>\n",
       "      <td>Overcast</td>\n",
       "    </tr>\n",
       "  </tbody>\n",
       "</table>\n",
       "<p>728 rows × 5 columns</p>\n",
       "</div>"
      ],
      "text/plain": [
       "         Time                                              IMAGE      DOLP  \\\n",
       "0    10:45:00  /Volumes/Doraemon /BRDF 2021/Data_Skycam/DCIM/...  0.122028   \n",
       "1    10:50:00  /Volumes/Doraemon /BRDF 2021/Data_Skycam/DCIM/...  0.110792   \n",
       "2    11:50:00  /Volumes/Doraemon /BRDF 2021/Data_Skycam/DCIM/...  0.071582   \n",
       "3    12:15:00  /Volumes/Doraemon /BRDF 2021/Data_Skycam/DCIM/...  0.077421   \n",
       "4    12:40:00  /Volumes/Doraemon /BRDF 2021/Data_Skycam/DCIM/...  0.286818   \n",
       "..        ...                                                ...       ...   \n",
       "723  0.697917  /Volumes/Doraemon /BRDF 2021/Data_Skycam/DCIM/...  0.172934   \n",
       "724  0.739583  /Volumes/Doraemon /BRDF 2021/Data_Skycam/DCIM/...  0.194597   \n",
       "725   0.78125  /Volumes/Doraemon /BRDF 2021/Data_Skycam/DCIM/...  0.227131   \n",
       "726  0.822917  /Volumes/Doraemon /BRDF 2021/Data_Skycam/DCIM/...  0.295154   \n",
       "727  0.284722  /Volumes/Doraemon /BRDF 2021/Data_Skycam/DCIM/...  0.123890   \n",
       "\n",
       "     Cloud Coverage            Sky  \n",
       "0         48.967867  Partly Cloudy  \n",
       "1         49.289283  Partly Cloudy  \n",
       "2         48.272792  Partly Cloudy  \n",
       "3         86.216933       Overcast  \n",
       "4         47.495025  Partly Cloudy  \n",
       "..              ...            ...  \n",
       "723       31.220458  Partly Cloudy  \n",
       "724       44.797783  Partly Cloudy  \n",
       "725       52.975883       Overcast  \n",
       "726        3.778183          Sunny  \n",
       "727       54.325433       Overcast  \n",
       "\n",
       "[728 rows x 5 columns]"
      ]
     },
     "execution_count": 319,
     "metadata": {},
     "output_type": "execute_result"
    }
   ],
   "source": [
    "# Load data from Excel\n",
    "data = pd.read_excel('/Users/mayur/Desktop/NN/NNDL_Project_F/CSV Datafile.xlsx')\n",
    "\n",
    "data"
   ]
  },
  {
   "cell_type": "code",
   "execution_count": 320,
   "id": "ce8cdb72-9122-4a78-9b0c-233673663b15",
   "metadata": {},
   "outputs": [],
   "source": [
    "data= data[400:700]\n",
    "condition = (data['DOLP'] > 0.1) & (data['DOLP'] < 0.45)"
   ]
  },
  {
   "cell_type": "code",
   "execution_count": 321,
   "id": "0bbb2251-dbb7-409d-aa61-c5e4af1f37c5",
   "metadata": {},
   "outputs": [],
   "source": [
    "data = data[condition]"
   ]
  },
  {
   "cell_type": "code",
   "execution_count": 322,
   "id": "ab00b357-a84f-4126-9ae1-86ca3951b3f9",
   "metadata": {},
   "outputs": [
    {
     "data": {
      "text/html": [
       "<div>\n",
       "<style scoped>\n",
       "    .dataframe tbody tr th:only-of-type {\n",
       "        vertical-align: middle;\n",
       "    }\n",
       "\n",
       "    .dataframe tbody tr th {\n",
       "        vertical-align: top;\n",
       "    }\n",
       "\n",
       "    .dataframe thead th {\n",
       "        text-align: right;\n",
       "    }\n",
       "</style>\n",
       "<table border=\"1\" class=\"dataframe\">\n",
       "  <thead>\n",
       "    <tr style=\"text-align: right;\">\n",
       "      <th></th>\n",
       "      <th>DOLP</th>\n",
       "      <th>Cloud Coverage</th>\n",
       "    </tr>\n",
       "  </thead>\n",
       "  <tbody>\n",
       "    <tr>\n",
       "      <th>count</th>\n",
       "      <td>275.000000</td>\n",
       "      <td>275.000000</td>\n",
       "    </tr>\n",
       "    <tr>\n",
       "      <th>mean</th>\n",
       "      <td>0.189051</td>\n",
       "      <td>42.216510</td>\n",
       "    </tr>\n",
       "    <tr>\n",
       "      <th>std</th>\n",
       "      <td>0.061121</td>\n",
       "      <td>34.140816</td>\n",
       "    </tr>\n",
       "    <tr>\n",
       "      <th>min</th>\n",
       "      <td>0.100573</td>\n",
       "      <td>0.000000</td>\n",
       "    </tr>\n",
       "    <tr>\n",
       "      <th>25%</th>\n",
       "      <td>0.142713</td>\n",
       "      <td>3.112671</td>\n",
       "    </tr>\n",
       "    <tr>\n",
       "      <th>50%</th>\n",
       "      <td>0.176468</td>\n",
       "      <td>45.111442</td>\n",
       "    </tr>\n",
       "    <tr>\n",
       "      <th>75%</th>\n",
       "      <td>0.222909</td>\n",
       "      <td>76.586858</td>\n",
       "    </tr>\n",
       "    <tr>\n",
       "      <th>max</th>\n",
       "      <td>0.429776</td>\n",
       "      <td>96.029000</td>\n",
       "    </tr>\n",
       "  </tbody>\n",
       "</table>\n",
       "</div>"
      ],
      "text/plain": [
       "             DOLP  Cloud Coverage\n",
       "count  275.000000      275.000000\n",
       "mean     0.189051       42.216510\n",
       "std      0.061121       34.140816\n",
       "min      0.100573        0.000000\n",
       "25%      0.142713        3.112671\n",
       "50%      0.176468       45.111442\n",
       "75%      0.222909       76.586858\n",
       "max      0.429776       96.029000"
      ]
     },
     "execution_count": 322,
     "metadata": {},
     "output_type": "execute_result"
    }
   ],
   "source": [
    "data.describe()"
   ]
  },
  {
   "cell_type": "code",
   "execution_count": 323,
   "id": "534fd79a-0c99-4f7a-aa34-4417c17b40a6",
   "metadata": {},
   "outputs": [],
   "source": [
    "# Extract image file paths and dolp values\n",
    "image_paths = data['IMAGE'].tolist()\n",
    "dolp_values = data['DOLP'].values\n",
    "cloud_coverage_values = data['Cloud Coverage'].values"
   ]
  },
  {
   "cell_type": "code",
   "execution_count": 324,
   "id": "6cc5ca60",
   "metadata": {
    "collapsed": false,
    "jupyter": {
     "outputs_hidden": false
    }
   },
   "outputs": [],
   "source": [
    "# Resize images to 500x500\n",
    "resized_images = []\n",
    "for image_path in image_paths:\n",
    "    img = Image.open(image_path)\n",
    "    img = img.resize((500, 500))\n",
    "    img = np.array(img) / 255.0\n",
    "    resized_images.append(img)\n",
    "\n",
    "resized_images = np.array(resized_images)"
   ]
  },
  {
   "cell_type": "code",
   "execution_count": 325,
   "id": "4c544cd0-0885-4265-8996-c9dcbc2c06e0",
   "metadata": {},
   "outputs": [
    {
     "data": {
      "text/plain": [
       "(275, 3)"
      ]
     },
     "execution_count": 325,
     "metadata": {},
     "output_type": "execute_result"
    }
   ],
   "source": [
    "sky_encoder = OneHotEncoder()\n",
    "sky_encoded = sky_encoder.fit_transform(data['Sky'].values.reshape(-1, 1)).toarray()\n",
    "\n",
    "sky_encoded_reshaped = sky_encoded.reshape((sky_encoded.shape[0], 1, sky_encoded.shape[1]))\n",
    "\n",
    "sky_encoded.shape"
   ]
  },
  {
   "cell_type": "markdown",
   "id": "884d23ca",
   "metadata": {
    "collapsed": false,
    "jupyter": {
     "outputs_hidden": false
    }
   },
   "source": [
    "### 2. Prepare your Final Model\n",
    "\n",
    "Here you can have your code to either train (e.g., if you are building it from scratch) your model. These steps may require you to use other packages or python files. You can just call them here. You don't have to include them in your submission. Remember that we will be looking at the saved outputs in the notebooked and we will not run the entire notebook."
   ]
  },
  {
   "cell_type": "code",
   "execution_count": 326,
   "id": "4ca16e2a-d0ce-458f-8b0e-cd01e379f69b",
   "metadata": {},
   "outputs": [],
   "source": [
    "# Split the data into training and testing sets\n",
    "X_train_img, X_test_img, X_train_sky, X_test_sky, y_train, y_test = train_test_split(\n",
    "    resized_images, sky_encoded_reshaped, dolp_values, test_size=0.3, random_state=42)"
   ]
  },
  {
   "cell_type": "code",
   "execution_count": 327,
   "id": "2a317c4d",
   "metadata": {
    "collapsed": false,
    "jupyter": {
     "outputs_hidden": false
    }
   },
   "outputs": [
    {
     "name": "stdout",
     "output_type": "stream",
     "text": [
      "Epoch 1/10\n",
      "5/5 [==============================] - 71s 12s/step - loss: 0.8866 - mean_absolute_percentage_error: 375.9644 - val_loss: 0.0141 - val_mean_absolute_percentage_error: 45.8545\n",
      "Epoch 2/10\n",
      "5/5 [==============================] - 59s 12s/step - loss: 0.0109 - mean_absolute_percentage_error: 49.3011 - val_loss: 0.0050 - val_mean_absolute_percentage_error: 37.9319\n",
      "Epoch 3/10\n",
      "5/5 [==============================] - 58s 12s/step - loss: 0.0065 - mean_absolute_percentage_error: 35.3986 - val_loss: 0.0044 - val_mean_absolute_percentage_error: 30.0923\n",
      "Epoch 4/10\n",
      "5/5 [==============================] - 59s 12s/step - loss: 0.0068 - mean_absolute_percentage_error: 37.7409 - val_loss: 0.0060 - val_mean_absolute_percentage_error: 28.6512\n",
      "Epoch 5/10\n",
      "5/5 [==============================] - 58s 12s/step - loss: 0.0059 - mean_absolute_percentage_error: 37.9520 - val_loss: 0.0073 - val_mean_absolute_percentage_error: 30.5688\n",
      "Epoch 6/10\n",
      "5/5 [==============================] - 57s 11s/step - loss: 0.0059 - mean_absolute_percentage_error: 29.0720 - val_loss: 0.0042 - val_mean_absolute_percentage_error: 27.8680\n",
      "Epoch 7/10\n",
      "5/5 [==============================] - 58s 12s/step - loss: 0.0054 - mean_absolute_percentage_error: 35.8826 - val_loss: 0.0059 - val_mean_absolute_percentage_error: 28.5422\n",
      "Epoch 8/10\n",
      "5/5 [==============================] - 58s 12s/step - loss: 0.0048 - mean_absolute_percentage_error: 27.4934 - val_loss: 0.0038 - val_mean_absolute_percentage_error: 28.2006\n",
      "Epoch 9/10\n",
      "5/5 [==============================] - 58s 12s/step - loss: 0.0052 - mean_absolute_percentage_error: 33.2967 - val_loss: 0.0058 - val_mean_absolute_percentage_error: 28.0831\n",
      "Epoch 10/10\n",
      "5/5 [==============================] - 223s 53s/step - loss: 0.0041 - mean_absolute_percentage_error: 28.9516 - val_loss: 0.0042 - val_mean_absolute_percentage_error: 26.0050\n"
     ]
    }
   ],
   "source": [
    "# Define the model\n",
    "cnn_input = Input(shape=(500, 500, 3))\n",
    "rnn_input = Input(shape=(1, sky_encoded.shape[1]))  # Adjusted input shape for RNN model\n",
    "\n",
    "#CNN model for image data\n",
    "cnn_model = Sequential([\n",
    "    Conv2D(32, (3, 3), activation='relu', input_shape=(500, 500, 3)),\n",
    "    MaxPooling2D((2, 2)),\n",
    "    Conv2D(64, (3, 3), activation='relu'),\n",
    "    MaxPooling2D((2, 2)),\n",
    "    Conv2D(64, (3, 3), activation='relu'),\n",
    "    MaxPooling2D((2, 2)),\n",
    "    Conv2D(128, (3, 3), activation='relu'),\n",
    "    MaxPooling2D((2, 2)),\n",
    "    Flatten(),\n",
    "    Dense(32, activation='relu'),\n",
    "    Dropout(0.2)\n",
    "])\n",
    "\n",
    "\n",
    "# RNN model for categorical data\n",
    "rnn_model = Sequential([\n",
    "    LSTM(64, return_sequences=True, input_shape=(1, sky_encoded.shape[1])),\n",
    "    LSTM(64),\n",
    "    Dense(32, activation='relu')\n",
    "])\n",
    "\n",
    "cnn_output = cnn_model(cnn_input)\n",
    "rnn_output = rnn_model(rnn_input)\n",
    "\n",
    "\n",
    "# combine both models\n",
    "combined_output = concatenate([cnn_output, rnn_output])\n",
    "\n",
    "\n",
    "# Add additional dense layers for regression\n",
    "dense_layer_1 = Dense(64, activation='relu')(combined_output)\n",
    "dense_layer = Dense(32, activation='relu')(dense_layer_1)\n",
    "output_layer = Dense(1)(dense_layer_1)\n",
    "\n",
    "# Combine everything into a single model\n",
    "final_model = Model(inputs=[cnn_input, rnn_input], outputs=output_layer)\n",
    "\n",
    "# Compile the model\n",
    "final_model.compile(optimizer='adam', loss='mean_squared_error', metrics=[tf.keras.losses.mean_absolute_percentage_error])\n",
    "\n",
    "# Train the model\n",
    "history = final_model.fit([X_train_img, X_train_sky], y_train, epochs=10, batch_size=32, validation_split=0.2)"
   ]
  },
  {
   "cell_type": "code",
   "execution_count": 328,
   "id": "9f8f8a8d-93ef-44d7-b846-8adf35b77ea2",
   "metadata": {},
   "outputs": [
    {
     "name": "stdout",
     "output_type": "stream",
     "text": [
      "Shape of X_train_img: (192, 500, 500, 3)\n",
      "Shape of X_train_sky: (192, 1, 3)\n",
      "Shape of y_train: (192,)\n",
      "Shape of combined_input: (None, 186, 35)\n",
      "Model: \"model_34\"\n",
      "__________________________________________________________________________________________________\n",
      " Layer (type)                   Output Shape         Param #     Connected to                     \n",
      "==================================================================================================\n",
      " input_100 (InputLayer)         [(None, 500, 500, 3  0           []                               \n",
      "                                )]                                                                \n",
      "                                                                                                  \n",
      " input_101 (InputLayer)         [(None, 1, 3)]       0           []                               \n",
      "                                                                                                  \n",
      " sequential_91 (Sequential)     (None, 32)           3574944     ['input_100[0][0]']              \n",
      "                                                                                                  \n",
      " sequential_92 (Sequential)     (None, 32)           52512       ['input_101[0][0]']              \n",
      "                                                                                                  \n",
      " concatenate_48 (Concatenate)   (None, 64)           0           ['sequential_91[0][0]',          \n",
      "                                                                  'sequential_92[0][0]']          \n",
      "                                                                                                  \n",
      " dense_196 (Dense)              (None, 64)           4160        ['concatenate_48[0][0]']         \n",
      "                                                                                                  \n",
      " dense_198 (Dense)              (None, 1)            65          ['dense_196[0][0]']              \n",
      "                                                                                                  \n",
      "==================================================================================================\n",
      "Total params: 3,631,681\n",
      "Trainable params: 3,631,681\n",
      "Non-trainable params: 0\n",
      "__________________________________________________________________________________________________\n"
     ]
    }
   ],
   "source": [
    "# Ensure that the shapes of inputs are compatible\n",
    "print(\"Shape of X_train_img:\", X_train_img.shape)\n",
    "print(\"Shape of X_train_sky:\", X_train_sky.shape)\n",
    "print(\"Shape of y_train:\", y_train.shape)\n",
    "\n",
    "# Validate the concatenation step\n",
    "print(\"Shape of combined_input:\", combined_input.shape)\n",
    "\n",
    "# Print model summary to verify the architecture\n",
    "final_model.summary()"
   ]
  },
  {
   "cell_type": "markdown",
   "id": "c25ed302",
   "metadata": {
    "collapsed": false,
    "jupyter": {
     "outputs_hidden": false
    }
   },
   "source": [
    "### 3. Model Performance\n",
    "\n",
    "Make sure to include the following:\n",
    "- Performance on the training set\n",
    "- Performance on the test set\n",
    "- Provide some screenshots of your output (e.g., pictures, text output, or a histogram of predicted values in the case of tabular data). Any visualization of the predictions are welcome."
   ]
  },
  {
   "cell_type": "code",
   "execution_count": 329,
   "id": "4f3ce0bd",
   "metadata": {
    "collapsed": false,
    "jupyter": {
     "outputs_hidden": false
    }
   },
   "outputs": [
    {
     "data": {
      "image/png": "[encoded data removed]",
      "text/plain": [
       "<Figure size 640x480 with 1 Axes>"
      ]
     },
     "metadata": {},
     "output_type": "display_data"
    }
   ],
   "source": [
    "# Plot performance on training and validation set\n",
    "plt.plot(history.history['loss'], label='train_loss')\n",
    "plt.plot(history.history['val_loss'], label='val_loss')\n",
    "plt.xlabel('Epochs')\n",
    "plt.ylabel('Loss')\n",
    "plt.legend()\n",
    "plt.show()"
   ]
  },
  {
   "cell_type": "code",
   "execution_count": 330,
   "id": "a0bd0c42-02fd-4613-a9f2-537eb3dbe35d",
   "metadata": {},
   "outputs": [
    {
     "name": "stdout",
     "output_type": "stream",
     "text": [
      "3/3 [==============================] - 10s 3s/step\n"
     ]
    }
   ],
   "source": [
    "# Screenshot and visualization of output\n",
    "y_predicted = final_model.predict([X_test_img,X_test_sky])"
   ]
  },
  {
   "cell_type": "code",
   "execution_count": 331,
   "id": "d6cc1a7e-fc17-4135-94a5-657eed9db0ed",
   "metadata": {},
   "outputs": [
    {
     "name": "stdout",
     "output_type": "stream",
     "text": [
      "(83,)\n",
      "(83,)\n"
     ]
    }
   ],
   "source": [
    "print(y_test.shape)\n",
    "print(y_predicted.reshape(-1).shape)"
   ]
  },
  {
   "cell_type": "code",
   "execution_count": 332,
   "id": "0204d852-7544-4f91-aa63-16e0f999d3fc",
   "metadata": {},
   "outputs": [
    {
     "data": {
      "text/html": [
       "<div>\n",
       "<style scoped>\n",
       "    .dataframe tbody tr th:only-of-type {\n",
       "        vertical-align: middle;\n",
       "    }\n",
       "\n",
       "    .dataframe tbody tr th {\n",
       "        vertical-align: top;\n",
       "    }\n",
       "\n",
       "    .dataframe thead th {\n",
       "        text-align: right;\n",
       "    }\n",
       "</style>\n",
       "<table border=\"1\" class=\"dataframe\">\n",
       "  <thead>\n",
       "    <tr style=\"text-align: right;\">\n",
       "      <th></th>\n",
       "      <th>Predicted</th>\n",
       "      <th>Actual</th>\n",
       "    </tr>\n",
       "  </thead>\n",
       "  <tbody>\n",
       "    <tr>\n",
       "      <th>8</th>\n",
       "      <td>0.142892</td>\n",
       "      <td>0.154210</td>\n",
       "    </tr>\n",
       "    <tr>\n",
       "      <th>9</th>\n",
       "      <td>0.166120</td>\n",
       "      <td>0.134287</td>\n",
       "    </tr>\n",
       "    <tr>\n",
       "      <th>10</th>\n",
       "      <td>0.163802</td>\n",
       "      <td>0.170784</td>\n",
       "    </tr>\n",
       "    <tr>\n",
       "      <th>11</th>\n",
       "      <td>0.187689</td>\n",
       "      <td>0.279253</td>\n",
       "    </tr>\n",
       "    <tr>\n",
       "      <th>12</th>\n",
       "      <td>0.182603</td>\n",
       "      <td>0.208372</td>\n",
       "    </tr>\n",
       "  </tbody>\n",
       "</table>\n",
       "</div>"
      ],
      "text/plain": [
       "    Predicted    Actual\n",
       "8    0.142892  0.154210\n",
       "9    0.166120  0.134287\n",
       "10   0.163802  0.170784\n",
       "11   0.187689  0.279253\n",
       "12   0.182603  0.208372"
      ]
     },
     "execution_count": 332,
     "metadata": {},
     "output_type": "execute_result"
    }
   ],
   "source": [
    "output = pd.DataFrame({\"Predicted\":y_predicted.reshape(-1),\"Actual\":y_test})\n",
    "output[8:13]"
   ]
  },
  {
   "cell_type": "code",
   "execution_count": 333,
   "id": "5b109c13-79bb-4aee-b22f-28741ebb9b94",
   "metadata": {
    "scrolled": true
   },
   "outputs": [
    {
     "data": {
      "image/png": "[encoded data removed]",
      "text/plain": [
       "<Figure size 1200x300 with 1 Axes>"
      ]
     },
     "metadata": {},
     "output_type": "display_data"
    }
   ],
   "source": [
    "plt.figure(figsize=(12, 3))\n",
    "plt.plot(y_test, label='Actual', color='blue')\n",
    "plt.plot(y_predicted, label='Predicted', color='red')\n",
    "plt.title('Actual vs Predicted')\n",
    "plt.xlabel('Index')\n",
    "plt.ylabel('Value')\n",
    "plt.legend()\n",
    "plt.show()"
   ]
  },
  {
   "cell_type": "code",
   "execution_count": 334,
   "id": "841b0408-48b5-4316-9b4c-36c357a48d9b",
   "metadata": {},
   "outputs": [
    {
     "name": "stdout",
     "output_type": "stream",
     "text": [
      "3/3 [==============================] - 10s 3s/step - loss: 0.0039 - mean_absolute_percentage_error: 20.7650\n",
      "\n",
      "Test Loss (mse): 0.003930367063730955\n",
      "\n",
      "Mean Absolute Percentage Error: 20.76504898071289\n"
     ]
    }
   ],
   "source": [
    "# Performance on test set\n",
    "loss = final_model.evaluate([X_test_img,X_test_sky], y_test)\n",
    "print(\"\\nTest Loss (mse):\", loss[0])\n",
    "print(\"\\nMean Absolute Percentage Error:\", loss[1])"
   ]
  }
 ],
 "metadata": {
  "kernelspec": {
   "display_name": "Python 3 (ipykernel)",
   "language": "python",
   "name": "python3"
  },
  "language_info": {
   "codemirror_mode": {
    "name": "ipython",
    "version": 3
   },
   "file_extension": ".py",
   "mimetype": "text/x-python",
   "name": "python",
   "nbconvert_exporter": "python",
   "pygments_lexer": "ipython3",
   "version": "3.10.13"
  }
 },
 "nbformat": 4,
 "nbformat_minor": 5
}
