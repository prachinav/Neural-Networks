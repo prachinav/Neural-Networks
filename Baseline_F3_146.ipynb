{
 "cells": [
  {
   "cell_type": "markdown",
   "id": "c7c0071d",
   "metadata": {
    "collapsed": false,
    "jupyter": {
     "outputs_hidden": false
    }
   },
   "source": [
    "## ProjF3 - Baseline Model\n",
    "\n",
    "Use this document as a template to provide the evaluation of your baseline model. You are welcome to go in as much depth as needed.\n",
    "\n",
    "Make sure you keep the sections specified in this template, but you are welcome to add more cells with your code or explanation as needed."
   ]
  },
  {
   "cell_type": "code",
   "execution_count": 1,
   "id": "910067c8",
   "metadata": {
    "collapsed": false,
    "jupyter": {
     "outputs_hidden": false
    }
   },
   "outputs": [],
   "source": [
    "import numpy as np\n",
    "import pandas as pd\n",
    "import matplotlib.pyplot as plt\n",
    "import tensorflow as tf\n",
    "from tensorflow.keras import Sequential\n",
    "from tensorflow.keras.layers import Conv2D, MaxPooling2D, Flatten, Dense\n",
    "from sklearn.model_selection import train_test_split\n",
    "from PIL import Image"
   ]
  },
  {
   "cell_type": "markdown",
   "id": "2e990252",
   "metadata": {
    "collapsed": false,
    "jupyter": {
     "outputs_hidden": false
    }
   },
   "source": [
    "### 1. Load and Prepare Data\n",
    "\n",
    "This should illustrate your code for loading the dataset and the split into training, validation and testing. You can add steps like pre-processing if needed."
   ]
  },
  {
   "cell_type": "raw",
   "id": "6bda463b-622d-4c24-bf1a-02619deff58d",
   "metadata": {},
   "source": [
    "# Script for calculating Dolp from mat files for data preparation\n",
    "\n",
    "from pathlib import Path\n",
    "import numpy as np\n",
    "import matplotlib.pyplot as plt\n",
    "import mat73\n",
    "from xlwt import Workbook\n",
    "\n",
    "wb = Workbook()\n",
    "sheet1 = wb.add_sheet('Sheet 1')\n",
    "\n",
    "directory = '/Volumes/Doraemon /BRDF 2021/recon_data_cubes'\n",
    "\n",
    "files = Path(directory).glob('*')\n",
    "DOLP_list = []\n",
    "k=1\n",
    "for file in files:\n",
    "    data = mat73.loadmat(file)\n",
    "    lambda_val = data['lambda']\n",
    "    s0 = data['S0int']\n",
    "    s1 = data['S1int']\n",
    "    s2 = data['S2int']\n",
    "\n",
    "    s0 , s1, s2 = s0[800:900,600:700,55],s1[800:900,600:700,55],s2[800:900,600:700,55]\n",
    "    LL=np.zeros([100,100])\n",
    "    DOLP = np.zeros([100,100])\n",
    "    for i in range(100):\n",
    "        for j in range(100):\n",
    "            if ~np.isnan(s1[i][j].all()) and ~np.isnan(s2[i][j].all()) and ~np.isnan(s0[i][j].all()) and s0[i][j]**2 >= s1[i][j]**2 + s2[i][j]**2:\n",
    "                LL[i][j] =np.sqrt(s1[i][j]**2+s2[i][j]**2)\n",
    "                DOLP[i][j] = LL[i][j]/s0[i][j]\n",
    "\n",
    "    DOLP = DOLP[~np.isnan(DOLP)]\n",
    "\n",
    "    AOP = 0.5 * np.arctan2(s0, s1)\n",
    "    circular_threshold = 0.99\n",
    "    mean_DOLP = np.mean(DOLP)\n",
    "    mean_AOP = np.mean(AOP)\n",
    "    DOLP_list.append(mean_DOLP)\n",
    "    print(f'DoLP for below image is {mean_DOLP}')\n",
    "    sheet1.write(k, 0, {file})\n",
    "    sheet1.write(k, 1, mean_DOLP)\n",
    "    k+=1\n",
    "    wb.save('/Users/mayur/Desktop/NN/NNDL_Project_F/DolP_data.xls')"
   ]
  },
  {
   "cell_type": "markdown",
   "id": "27426a24",
   "metadata": {
    "collapsed": false,
    "jupyter": {
     "outputs_hidden": false
    }
   },
   "source": [
    "The output of the script is omitted due to its lengthy processing time of two days. However, the script is integral for showcasing the data preparation process."
   ]
  },
  {
   "cell_type": "code",
   "execution_count": 2,
   "id": "14320204",
   "metadata": {
    "collapsed": false,
    "jupyter": {
     "outputs_hidden": false
    }
   },
   "outputs": [
    {
     "data": {
      "text/html": [
       "<div>\n",
       "<style scoped>\n",
       "    .dataframe tbody tr th:only-of-type {\n",
       "        vertical-align: middle;\n",
       "    }\n",
       "\n",
       "    .dataframe tbody tr th {\n",
       "        vertical-align: top;\n",
       "    }\n",
       "\n",
       "    .dataframe thead th {\n",
       "        text-align: right;\n",
       "    }\n",
       "</style>\n",
       "<table border=\"1\" class=\"dataframe\">\n",
       "  <thead>\n",
       "    <tr style=\"text-align: right;\">\n",
       "      <th></th>\n",
       "      <th>IMAGE</th>\n",
       "      <th>DOLP</th>\n",
       "    </tr>\n",
       "  </thead>\n",
       "  <tbody>\n",
       "    <tr>\n",
       "      <th>0</th>\n",
       "      <td>/Volumes/Doraemon /BRDF 2021/Data_Skycam/DCIM/...</td>\n",
       "      <td>0.115053</td>\n",
       "    </tr>\n",
       "    <tr>\n",
       "      <th>1</th>\n",
       "      <td>/Volumes/Doraemon /BRDF 2021/Data_Skycam/DCIM/...</td>\n",
       "      <td>0.108652</td>\n",
       "    </tr>\n",
       "    <tr>\n",
       "      <th>2</th>\n",
       "      <td>/Volumes/Doraemon /BRDF 2021/Data_Skycam/DCIM/...</td>\n",
       "      <td>0.099074</td>\n",
       "    </tr>\n",
       "    <tr>\n",
       "      <th>3</th>\n",
       "      <td>/Volumes/Doraemon /BRDF 2021/Data_Skycam/DCIM/...</td>\n",
       "      <td>0.101598</td>\n",
       "    </tr>\n",
       "    <tr>\n",
       "      <th>4</th>\n",
       "      <td>/Volumes/Doraemon /BRDF 2021/Data_Skycam/DCIM/...</td>\n",
       "      <td>0.333211</td>\n",
       "    </tr>\n",
       "  </tbody>\n",
       "</table>\n",
       "</div>"
      ],
      "text/plain": [
       "                                               IMAGE      DOLP\n",
       "0  /Volumes/Doraemon /BRDF 2021/Data_Skycam/DCIM/...  0.115053\n",
       "1  /Volumes/Doraemon /BRDF 2021/Data_Skycam/DCIM/...  0.108652\n",
       "2  /Volumes/Doraemon /BRDF 2021/Data_Skycam/DCIM/...  0.099074\n",
       "3  /Volumes/Doraemon /BRDF 2021/Data_Skycam/DCIM/...  0.101598\n",
       "4  /Volumes/Doraemon /BRDF 2021/Data_Skycam/DCIM/...  0.333211"
      ]
     },
     "execution_count": 2,
     "metadata": {},
     "output_type": "execute_result"
    }
   ],
   "source": [
    "# Load data from Excel\n",
    "data = pd.read_excel('/Users/prachi/Downloads/CSV Datafile - NNDL Project F.xlsx')\n",
    "\n",
    "data.head()"
   ]
  },
  {
   "cell_type": "code",
   "execution_count": 3,
   "id": "534fd79a-0c99-4f7a-aa34-4417c17b40a6",
   "metadata": {},
   "outputs": [],
   "source": [
    "# Extract image file paths and dolp values\n",
    "image_paths = data['IMAGE'].tolist()\n",
    "dolp_values = data['DOLP'].values"
   ]
  },
  {
   "cell_type": "code",
   "execution_count": 4,
   "id": "6cc5ca60",
   "metadata": {
    "collapsed": false,
    "jupyter": {
     "outputs_hidden": false
    }
   },
   "outputs": [],
   "source": [
    "# Resize images to 500x500\n",
    "resized_images = []\n",
    "for image_path in image_paths:\n",
    "    img = Image.open(image_path)\n",
    "    img = img.resize((500, 500))\n",
    "    img = np.array(img) / 255.0\n",
    "    resized_images.append(img)\n",
    "\n",
    "resized_images = np.array(resized_images)"
   ]
  },
  {
   "cell_type": "markdown",
   "id": "884d23ca",
   "metadata": {
    "collapsed": false,
    "jupyter": {
     "outputs_hidden": false
    }
   },
   "source": [
    "### 2. Prepare your Baseline Model\n",
    "\n",
    "Here you can have your code to either train (e.g., if you are building it from scratch) or load (e.g., in the case that you are loading a pre-trained model) your model. These steps may require you to use other packages or python files. You can just call them here. You don't have to include them in your submission. Remember that we will be looking at the saved outputs in the notebooked and we will not run the entire notebook."
   ]
  },
  {
   "cell_type": "code",
   "execution_count": 5,
   "id": "4ca16e2a-d0ce-458f-8b0e-cd01e379f69b",
   "metadata": {},
   "outputs": [],
   "source": [
    "# Split the data into training and testing sets\n",
    "X_train, X_test, y_train, y_test = train_test_split(resized_images, dolp_values, test_size=0.2, random_state=42)"
   ]
  },
  {
   "cell_type": "code",
   "execution_count": 6,
   "id": "2a317c4d",
   "metadata": {
    "collapsed": false,
    "jupyter": {
     "outputs_hidden": false
    }
   },
   "outputs": [
    {
     "name": "stdout",
     "output_type": "stream",
     "text": [
      "Epoch 1/10\n"
     ]
    },
    {
     "name": "stderr",
     "output_type": "stream",
     "text": [
      "2024-04-26 21:00:43.675660: W tensorflow/tsl/platform/profile_utils/cpu_utils.cc:128] Failed to get CPU frequency: 0 Hz\n"
     ]
    },
    {
     "name": "stdout",
     "output_type": "stream",
     "text": [
      "9/9 [==============================] - 61s 6s/step - loss: 464.1735 - mean_absolute_percentage_error: 4850.4561 - val_loss: 0.0493 - val_mean_absolute_percentage_error: 111.4336\n",
      "Epoch 2/10\n",
      "9/9 [==============================] - 56s 6s/step - loss: 0.0519 - mean_absolute_percentage_error: 102.6738 - val_loss: 0.0114 - val_mean_absolute_percentage_error: 33.8772\n",
      "Epoch 3/10\n",
      "9/9 [==============================] - 56s 6s/step - loss: 0.0101 - mean_absolute_percentage_error: 38.1092 - val_loss: 0.0103 - val_mean_absolute_percentage_error: 36.8179\n",
      "Epoch 4/10\n",
      "9/9 [==============================] - 55s 6s/step - loss: 0.0090 - mean_absolute_percentage_error: 39.3136 - val_loss: 0.0082 - val_mean_absolute_percentage_error: 33.3444\n",
      "Epoch 5/10\n",
      "9/9 [==============================] - 57s 6s/step - loss: 0.0079 - mean_absolute_percentage_error: 38.6138 - val_loss: 0.0078 - val_mean_absolute_percentage_error: 34.7277\n",
      "Epoch 6/10\n",
      "9/9 [==============================] - 55s 6s/step - loss: 0.0080 - mean_absolute_percentage_error: 38.7271 - val_loss: 0.0078 - val_mean_absolute_percentage_error: 30.6836\n",
      "Epoch 7/10\n",
      "9/9 [==============================] - 56s 6s/step - loss: 0.0075 - mean_absolute_percentage_error: 37.6682 - val_loss: 0.0073 - val_mean_absolute_percentage_error: 32.9272\n",
      "Epoch 8/10\n",
      "9/9 [==============================] - 56s 6s/step - loss: 0.0073 - mean_absolute_percentage_error: 38.0224 - val_loss: 0.0068 - val_mean_absolute_percentage_error: 29.4901\n",
      "Epoch 9/10\n",
      "9/9 [==============================] - 56s 6s/step - loss: 0.0066 - mean_absolute_percentage_error: 36.9446 - val_loss: 0.0062 - val_mean_absolute_percentage_error: 29.9616\n",
      "Epoch 10/10\n",
      "9/9 [==============================] - 55s 6s/step - loss: 0.0071 - mean_absolute_percentage_error: 36.4938 - val_loss: 0.0063 - val_mean_absolute_percentage_error: 32.5903\n"
     ]
    }
   ],
   "source": [
    "# Define the model\n",
    "model = Sequential([\n",
    "    Conv2D(32, (3, 3), activation='relu', input_shape=(500, 500, 3)),\n",
    "    MaxPooling2D((2, 2)),\n",
    "    Conv2D(64, (3, 3), activation='relu'),\n",
    "    MaxPooling2D((2, 2)),\n",
    "    Conv2D(128, (3, 3), activation='relu'),\n",
    "    MaxPooling2D((2, 2)),\n",
    "    Flatten(),\n",
    "    Dense(128, activation='relu'),\n",
    "    Dense(1)  # Output layer for regression\n",
    "])\n",
    "\n",
    "# Compile the model\n",
    "model.compile(optimizer='adam', loss='mean_squared_error', metrics=[tf.keras.losses.mean_absolute_percentage_error])\n",
    "\n",
    "# Train the model\n",
    "history = model.fit(X_train, y_train, epochs=10, batch_size=32, validation_split=0.1)"
   ]
  },
  {
   "cell_type": "markdown",
   "id": "c25ed302",
   "metadata": {
    "collapsed": false,
    "jupyter": {
     "outputs_hidden": false
    }
   },
   "source": [
    "### 3. Baseline Performance\n",
    "\n",
    "Make sure to include the following:\n",
    "- Performance on the training set\n",
    "- Performance on the test set\n",
    "- Provide some screenshots of your output (e.g., pictures, text output, or a histogram of predicted values in the case of tabular data). Any visualization of the predictions are welcome."
   ]
  },
  {
   "cell_type": "code",
   "execution_count": 7,
   "id": "4f3ce0bd",
   "metadata": {
    "collapsed": false,
    "jupyter": {
     "outputs_hidden": false
    }
   },
   "outputs": [
    {
     "data": {
      "image/png": "[encoded data removed]",
      "text/plain": [
       "<Figure size 640x480 with 1 Axes>"
      ]
     },
     "metadata": {},
     "output_type": "display_data"
    }
   ],
   "source": [
    "# Plot performance on training and validation set\n",
    "plt.plot(history.history['loss'], label='train_loss')\n",
    "plt.plot(history.history['val_loss'], label='val_loss')\n",
    "plt.xlabel('Epochs')\n",
    "plt.ylabel('Loss')\n",
    "plt.legend()\n",
    "plt.show()"
   ]
  },
  {
   "cell_type": "code",
   "execution_count": 8,
   "id": "a0bd0c42-02fd-4613-a9f2-537eb3dbe35d",
   "metadata": {},
   "outputs": [
    {
     "name": "stdout",
     "output_type": "stream",
     "text": [
      "3/3 [==============================] - 3s 1s/step\n"
     ]
    }
   ],
   "source": [
    "# Screenshot and visualization of output\n",
    "y_predicted = model.predict(X_test)"
   ]
  },
  {
   "cell_type": "code",
   "execution_count": 9,
   "id": "0204d852-7544-4f91-aa63-16e0f999d3fc",
   "metadata": {},
   "outputs": [
    {
     "data": {
      "text/html": [
       "<div>\n",
       "<style scoped>\n",
       "    .dataframe tbody tr th:only-of-type {\n",
       "        vertical-align: middle;\n",
       "    }\n",
       "\n",
       "    .dataframe tbody tr th {\n",
       "        vertical-align: top;\n",
       "    }\n",
       "\n",
       "    .dataframe thead th {\n",
       "        text-align: right;\n",
       "    }\n",
       "</style>\n",
       "<table border=\"1\" class=\"dataframe\">\n",
       "  <thead>\n",
       "    <tr style=\"text-align: right;\">\n",
       "      <th></th>\n",
       "      <th>Predicted</th>\n",
       "      <th>Actual</th>\n",
       "    </tr>\n",
       "  </thead>\n",
       "  <tbody>\n",
       "    <tr>\n",
       "      <th>8</th>\n",
       "      <td>0.265155</td>\n",
       "      <td>0.293079</td>\n",
       "    </tr>\n",
       "    <tr>\n",
       "      <th>9</th>\n",
       "      <td>0.191463</td>\n",
       "      <td>0.202313</td>\n",
       "    </tr>\n",
       "    <tr>\n",
       "      <th>10</th>\n",
       "      <td>0.260854</td>\n",
       "      <td>0.278711</td>\n",
       "    </tr>\n",
       "    <tr>\n",
       "      <th>11</th>\n",
       "      <td>0.219025</td>\n",
       "      <td>0.186652</td>\n",
       "    </tr>\n",
       "    <tr>\n",
       "      <th>12</th>\n",
       "      <td>0.238035</td>\n",
       "      <td>0.101280</td>\n",
       "    </tr>\n",
       "  </tbody>\n",
       "</table>\n",
       "</div>"
      ],
      "text/plain": [
       "    Predicted    Actual\n",
       "8    0.265155  0.293079\n",
       "9    0.191463  0.202313\n",
       "10   0.260854  0.278711\n",
       "11   0.219025  0.186652\n",
       "12   0.238035  0.101280"
      ]
     },
     "execution_count": 9,
     "metadata": {},
     "output_type": "execute_result"
    }
   ],
   "source": [
    "output = pd.DataFrame({\"Predicted\":y_predicted.reshape(74),\"Actual\":y_test})\n",
    "output[8:13]"
   ]
  },
  {
   "cell_type": "code",
   "execution_count": 10,
   "id": "5b109c13-79bb-4aee-b22f-28741ebb9b94",
   "metadata": {
    "scrolled": true
   },
   "outputs": [
    {
     "data": {
      "image/png": "[encoded data removed]",
      "text/plain": [
       "<Figure size 1000x600 with 1 Axes>"
      ]
     },
     "metadata": {},
     "output_type": "display_data"
    }
   ],
   "source": [
    "plt.figure(figsize=(10, 6))\n",
    "plt.plot(y_test, label='Actual', color='blue')\n",
    "plt.plot(y_predicted, label='Predicted', color='red')\n",
    "plt.title('Actual vs Predicted')\n",
    "plt.xlabel('Index')\n",
    "plt.ylabel('Value')\n",
    "plt.legend()\n",
    "plt.show()"
   ]
  },
  {
   "cell_type": "code",
   "execution_count": 11,
   "id": "841b0408-48b5-4316-9b4c-36c357a48d9b",
   "metadata": {},
   "outputs": [
    {
     "name": "stdout",
     "output_type": "stream",
     "text": [
      "3/3 [==============================] - 4s 1s/step - loss: 0.0075 - mean_absolute_percentage_error: 37.7094\n",
      "\n",
      "Test Loss (mse): 0.007480929605662823\n",
      "\n",
      "Mean Absolute Percentage Error: 37.70935821533203\n"
     ]
    }
   ],
   "source": [
    "# Performance on test set\n",
    "loss = model.evaluate(X_test, y_test)\n",
    "print(\"\\nTest Loss (mse):\", loss[0])\n",
    "print(\"\\nMean Absolute Percentage Error:\", loss[1])"
   ]
  },
  {
   "cell_type": "code",
   "execution_count": null,
   "id": "dfe3c7c8-5af4-4dfa-9dca-28dc20c25c85",
   "metadata": {},
   "outputs": [],
   "source": []
  },
  {
   "cell_type": "code",
   "execution_count": null,
   "id": "e3887666-eaa0-457d-a5ce-253a3a6312c6",
   "metadata": {},
   "outputs": [],
   "source": []
  }
 ],
 "metadata": {
  "kernelspec": {
   "display_name": "Python 3 (ipykernel)",
   "language": "python",
   "name": "python3"
  },
  "language_info": {
   "codemirror_mode": {
    "name": "ipython",
    "version": 3
   },
   "file_extension": ".py",
   "mimetype": "text/x-python",
   "name": "python",
   "nbconvert_exporter": "python",
   "pygments_lexer": "ipython3",
   "version": "3.10.13"
  }
 },
 "nbformat": 4,
 "nbformat_minor": 5
}
